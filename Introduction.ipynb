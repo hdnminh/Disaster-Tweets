{
 "cells": [
  {
   "attachments": {},
   "cell_type": "markdown",
   "metadata": {},
   "source": [
    "# Natural Language Processing with Disaster Tweets"
   ]
  },
  {
   "attachments": {},
   "cell_type": "markdown",
   "metadata": {},
   "source": [
    "### Thông tin các thành viên của nhóm\n",
    "\n",
    "<center>\n",
    "    \n",
    "| MSSV | Họ và tên | \n",
    "|:----:|---|\n",
    "| 20120210 | Trần Thị Kim Tiến | \n",
    "| 20120224 | Trần Thị Mỹ Trinh |\n",
    "| 20120231 | Phan Huy Trường |\n",
    "| 20120307 | Phạm Gia Khiêm |\n",
    "| 20120328 | Hoàng Đức Nhật Minh |\n",
    "| 20120578 | Phạm Quốc Thái |\n",
    "  \n",
    "    \n",
    "</center>"
   ]
  },
  {
   "attachments": {},
   "cell_type": "markdown",
   "metadata": {},
   "source": [
    "### Phân công nhiệm vụ"
   ]
  },
  {
   "attachments": {},
   "cell_type": "markdown",
   "metadata": {},
   "source": [
    "<center>\n",
    "    \n",
    "| Nội dung công việc | Thành viên thực hiện | \n",
    "|:----:|:----:|\n",
    "| Khám phá dữ liệu (EDA) | Trinh | \n",
    "| Tiền xử lý dữ liệu | Thái, Trường |\n",
    "| Rút trích đặc trưng | Thái, Trường |\n",
    "| Xây dựng mô hình | Minh, Khiêm, Tiến |\n",
    "| Phân tích và đánh giá kết quả | Minh, Khiêm, Tiến |\n",
    "| Cải thiện độ chính xác | Minh, Khiêm |\n",
    "| Tìm hiểu lý thuyết của mô hình | Tiến, Trường |\n",
    "| Quay video | Cả nhóm |\n",
    "    \n",
    "</center>"
   ]
  },
  {
   "attachments": {},
   "cell_type": "markdown",
   "metadata": {},
   "source": [
    "### Giới thiệu chung về đồ án"
   ]
  },
  {
   "attachments": {},
   "cell_type": "markdown",
   "metadata": {},
   "source": [
    "Với yêu cầu của [cuộc thi Kaggle](https://www.kaggle.com/competitions/nlp-getting-started/overview) là phân loại Tweet, dựa trên dữ liệu đầu vào là 1 bài Tweet có nội dung là một đoạn văn bản thuần, cần tiến hành phân loại thành hai nhóm 0 - Không có thảm họa và 1 - Có thảm họa. Dựa theo yêu cầu và bộ dữ liệu được cung cấp, nhóm đã tiến hành khám phá, tiền xử lý dữ liệu, xây dựng, huấn luyện mô hình thích hợp để hoàn thành yêu cầu phân loại Tweet của đề bài."
   ]
  }
 ],
 "metadata": {
  "kernelspec": {
   "display_name": "Python 3",
   "language": "python",
   "name": "python3"
  },
  "language_info": {
   "name": "python",
   "version": "3.11.0"
  },
  "orig_nbformat": 4
 },
 "nbformat": 4,
 "nbformat_minor": 2
}
